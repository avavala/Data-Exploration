{
 "cells": [
  {
   "cell_type": "markdown",
   "id": "c38c9498",
   "metadata": {},
   "source": [
    "# Laboratory 1 - Data Exploration\n",
    "#### 25th June 2022\n",
    "\n",
    "## Linear regression\n",
    "\n",
    "---"
   ]
  },
  {
   "cell_type": "code",
   "execution_count": 1,
   "id": "5fd7d08c",
   "metadata": {},
   "outputs": [],
   "source": [
    "import numpy as np\n",
    "import matplotlib.pyplot as plt\n",
    "import pandas as pd\n",
    "from scipy import stats\n",
    "\n",
    "import sklearn as skl\n",
    "from sklearn import linear_model\n",
    "from sklearn.metrics import r2_score, mean_squared_error, mean_absolute_error\n",
    "import sklearn.utils, sklearn.preprocessing\n",
    "from sklearn.preprocessing import StandardScaler\n",
    "from sklearn.model_selection import train_test_split"
   ]
  },
  {
   "cell_type": "code",
   "execution_count": 2,
   "id": "f5de16e6",
   "metadata": {},
   "outputs": [
    {
     "name": "stdout",
     "output_type": "stream",
     "text": [
      "Dataset values\n"
     ]
    },
    {
     "data": {
      "text/html": [
       "<div>\n",
       "<style scoped>\n",
       "    .dataframe tbody tr th:only-of-type {\n",
       "        vertical-align: middle;\n",
       "    }\n",
       "\n",
       "    .dataframe tbody tr th {\n",
       "        vertical-align: top;\n",
       "    }\n",
       "\n",
       "    .dataframe thead th {\n",
       "        text-align: right;\n",
       "    }\n",
       "</style>\n",
       "<table border=\"1\" class=\"dataframe\">\n",
       "  <thead>\n",
       "    <tr style=\"text-align: right;\">\n",
       "      <th></th>\n",
       "      <th>YearsExperience</th>\n",
       "      <th>Salary</th>\n",
       "    </tr>\n",
       "  </thead>\n",
       "  <tbody>\n",
       "    <tr>\n",
       "      <th>0</th>\n",
       "      <td>1.1</td>\n",
       "      <td>39343.0</td>\n",
       "    </tr>\n",
       "    <tr>\n",
       "      <th>1</th>\n",
       "      <td>1.3</td>\n",
       "      <td>46205.0</td>\n",
       "    </tr>\n",
       "    <tr>\n",
       "      <th>2</th>\n",
       "      <td>1.5</td>\n",
       "      <td>37731.0</td>\n",
       "    </tr>\n",
       "    <tr>\n",
       "      <th>3</th>\n",
       "      <td>2.0</td>\n",
       "      <td>43525.0</td>\n",
       "    </tr>\n",
       "    <tr>\n",
       "      <th>4</th>\n",
       "      <td>2.2</td>\n",
       "      <td>39891.0</td>\n",
       "    </tr>\n",
       "  </tbody>\n",
       "</table>\n",
       "</div>"
      ],
      "text/plain": [
       "   YearsExperience   Salary\n",
       "0              1.1  39343.0\n",
       "1              1.3  46205.0\n",
       "2              1.5  37731.0\n",
       "3              2.0  43525.0\n",
       "4              2.2  39891.0"
      ]
     },
     "execution_count": 2,
     "metadata": {},
     "output_type": "execute_result"
    }
   ],
   "source": [
    "# importing dataset and visulising the first five rows\n",
    "dataset = pd.read_excel(r'file:/Users/AlessandroVavala/Desktop/Alessandro/Università/WSB Pol/Data exploration method/salary_data.xlsx')\n",
    "X = dataset.iloc[:, :-1].values # creating an array with values from YearsExperience\n",
    "y = dataset.iloc[:, 1].values # creating an array with values from Salary, the dependent variable\n",
    "print(\"Dataset values\")\n",
    "dataset.head()"
   ]
  },
  {
   "cell_type": "code",
   "execution_count": 3,
   "id": "28f48c17",
   "metadata": {},
   "outputs": [
    {
     "name": "stdout",
     "output_type": "stream",
     "text": [
      "       YearsExperience         Salary\n",
      "count        30.000000      30.000000\n",
      "mean          5.313333   76003.000000\n",
      "std           2.837888   27414.429785\n",
      "min           1.100000   37731.000000\n",
      "25%           3.200000   56720.750000\n",
      "50%           4.700000   65237.000000\n",
      "75%           7.700000  100544.750000\n",
      "max          10.500000  122391.000000\n"
     ]
    }
   ],
   "source": [
    "print(dataset.describe())"
   ]
  },
  {
   "cell_type": "code",
   "execution_count": 4,
   "id": "3777fb6b",
   "metadata": {},
   "outputs": [
    {
     "data": {
      "text/plain": [
       "array([[<AxesSubplot:title={'center':'YearsExperience'}>,\n",
       "        <AxesSubplot:title={'center':'Salary'}>]], dtype=object)"
      ]
     },
     "execution_count": 4,
     "metadata": {},
     "output_type": "execute_result"
    },
    {
     "data": {
      "image/png": "[encoded data removed]",
      "text/plain": [
       "<Figure size 432x288 with 2 Axes>"
      ]
     },
     "metadata": {
      "needs_background": "light"
     },
     "output_type": "display_data"
    }
   ],
   "source": [
    "dataset.hist()"
   ]
  },
  {
   "cell_type": "code",
   "execution_count": 5,
   "id": "777f6ae3",
   "metadata": {},
   "outputs": [
    {
     "name": "stdout",
     "output_type": "stream",
     "text": [
      "\n",
      "X_train Dataset Description and values:\n",
      "DescribeResult(nobs=10, minmax=(array([1.1]), array([8.7])), mean=array([4.52]), variance=array([5.564]), skewness=array([0.11236426]), kurtosis=array([-0.66684495]))\n",
      "X_test Array Size: 10\n",
      "\n",
      "X_test Dataset Description and values:\n",
      "DescribeResult(nobs=20, minmax=(array([1.5]), array([10.5])), mean=array([5.71]), variance=array([9.15989474]), skewness=array([0.26885926]), kurtosis=array([-1.3933746]))\n",
      "X_test Array Size: 20\n",
      "\n",
      "y_train Dataset Description and values:\n",
      "DescribeResult(nobs=10, minmax=(39343.0, 109431.0), mean=70630.3, variance=526241098.23333335, skewness=0.291008839241123, kurtosis=-1.1253288184481411)\n",
      "\n",
      "y_test Dataset Description and values:\n",
      "DescribeResult(nobs=20, minmax=(37731.0, 122391.0), mean=78689.35, variance=875043125.7131579, skewness=0.23155521474206187, kurtosis=-1.4888346983672696)\n",
      "\n",
      "X_Train and y_train shape definition:\n",
      "(10, 1)\n",
      "(10,)\n"
     ]
    }
   ],
   "source": [
    "# splitting the dataset into training set and test set. \n",
    "X_train, X_test, y_train, y_test = train_test_split(X, y, test_size= 2/3, random_state= 120)\n",
    "\n",
    "# printing out the training sets and test sets, the size along with various statistics\n",
    "print()\n",
    "print(\"X_train Dataset Description and values:\")\n",
    "print(stats.describe(X_train))\n",
    "print(\"X_test Array Size: \" + str(X_train.size))\n",
    "#print(X_train)\n",
    "print()\n",
    "print(\"X_test Dataset Description and values:\")\n",
    "print(stats.describe(X_test))\n",
    "print(\"X_test Array Size: \" + str(X_test.size))\n",
    "#print(X_test)\n",
    "print()\n",
    "print(\"y_train Dataset Description and values:\")\n",
    "print(stats.describe(y_train))\n",
    "#print(y_train)\n",
    "print()\n",
    "print(\"y_test Dataset Description and values:\")\n",
    "print(stats.describe(y_test))\n",
    "#print(y_test)\n",
    "print()\n",
    "print(\"X_Train and y_train shape definition:\")\n",
    "print(X_train.shape)\n",
    "print(y_train.shape)"
   ]
  },
  {
   "cell_type": "code",
   "execution_count": 6,
   "id": "0b55968a",
   "metadata": {},
   "outputs": [],
   "source": [
    "# Feature Scaling\n",
    "\n",
    "'''sc_X = StandardScaler()\n",
    "X_train = sc_X.fit_transform(X_train)\n",
    "X_test = sc_X.transform(X_test)\n",
    "sc_y = StandardScaler()\n",
    "y_train = sc_y.fit_transform(y_train)'''\n",
    "\n",
    "\n",
    "scaler = StandardScaler()\n",
    "X_train_sc = scaler.fit_transform(X_train.reshape(-1, 1))\n",
    "X_test_sc = scaler.fit_transform(X_test.reshape(-1, 1))\n",
    "y_train_sc = scaler.fit_transform(y_train.reshape(-1, 1))\n",
    "y_test_sc = scaler.fit_transform(y_test.reshape(-1, 1))"
   ]
  },
  {
   "cell_type": "code",
   "execution_count": 7,
   "id": "4ea1ee21",
   "metadata": {},
   "outputs": [
    {
     "name": "stdout",
     "output_type": "stream",
     "text": [
      "X_train scaled Dataset Description and values:\n",
      "DescribeResult(nobs=10, minmax=(array([-1.52830942]), array([1.86793374])), mean=array([-6.88338275e-16]), variance=array([1.11111111]), skewness=array([0.11236426]), kurtosis=array([-0.66684495]))\n",
      "[[ 0.66137367]\n",
      " [-1.4389346 ]\n",
      " [-0.23237453]\n",
      " [ 0.3485618 ]\n",
      " [ 1.01887295]\n",
      " [ 1.86793374]\n",
      " [ 0.16981216]\n",
      " [-0.27706194]\n",
      " [-1.52830942]\n",
      " [-0.58987381]]\n",
      "\n",
      "X_test scaled Dataset Description and values:\n",
      "DescribeResult(nobs=20, minmax=(array([-1.42716784]), array([1.62378479])), mean=array([-1.11022302e-17]), variance=array([1.05263158]), skewness=array([0.26885926]), kurtosis=array([-1.3933746]))\n",
      "X_test Array Size: 20\n",
      "[[-0.579681  ]\n",
      " [-1.25767047]\n",
      " [ 1.55598584]\n",
      " [ 1.31868953]\n",
      " [-0.20678679]\n",
      " [-1.42716784]\n",
      " [-0.85087679]\n",
      " [ 1.28479005]\n",
      " [-0.95257521]\n",
      " [-1.18987153]\n",
      " [ 0.74239847]\n",
      " [ 0.47120268]\n",
      " [ 0.8440969 ]\n",
      " [-0.54578153]\n",
      " [ 1.62378479]\n",
      " [-0.41018363]\n",
      " [-0.91867574]\n",
      " [ 0.064409  ]\n",
      " [ 1.11529269]\n",
      " [-0.68137942]]\n",
      "\n",
      "y_train Dataset scaled Description and values:\n",
      "DescribeResult(nobs=10, minmax=(array([-1.43765424]), array([1.78289565])), mean=array([-1.66533454e-16]), variance=array([1.11111111]), skewness=array([0.29100884]), kurtosis=array([-1.12532882]))\n",
      "[[ 1.07108281]\n",
      " [-1.12234473]\n",
      " [-0.62828936]\n",
      " [ 0.57243243]\n",
      " [ 0.96990071]\n",
      " [ 1.78289565]\n",
      " [-0.12371143]\n",
      " [-0.34059585]\n",
      " [-1.43765424]\n",
      " [-0.74371599]]\n",
      "\n",
      "y_test Dataset scaled Description and values:\n",
      "DescribeResult(nobs=20, minmax=(array([-1.42058074]), array([1.5157281])), mean=array([-1.94289029e-16]), variance=array([1.05263158]), skewness=array([0.23155521]), kurtosis=array([-1.4888347]))\n",
      "[[-0.79409188]\n",
      " [-1.21962428]\n",
      " [ 1.5157281 ]\n",
      " [ 1.17735545]\n",
      " [-0.43910581]\n",
      " [-1.42058074]\n",
      " [-0.49404454]\n",
      " [ 1.32767393]\n",
      " [-0.76468024]\n",
      " [-1.34566428]\n",
      " [ 0.78428684]\n",
      " [ 0.67923039]\n",
      " [ 1.21817798]\n",
      " [-0.74945416]\n",
      " [ 1.49772734]\n",
      " [-0.60967948]\n",
      " [-0.64301036]\n",
      " [ 0.09273166]\n",
      " [ 0.93273241]\n",
      " [-0.74570834]]\n",
      "\n",
      "X_Train scaled and y_train scaled shape definition:\n",
      "(10, 1)\n",
      "(10, 1)\n"
     ]
    }
   ],
   "source": [
    "# printing out the scaled sets along with statistics\n",
    "print(\"X_train scaled Dataset Description and values:\")\n",
    "print(stats.describe(X_train_sc))\n",
    "print(X_train_sc)\n",
    "print()\n",
    "print(\"X_test scaled Dataset Description and values:\")\n",
    "print(stats.describe(X_test_sc))\n",
    "print(\"X_test Array Size: \" + str(X_test.size))\n",
    "print(X_test_sc)\n",
    "print()\n",
    "print(\"y_train Dataset scaled Description and values:\")\n",
    "print(stats.describe(y_train_sc))\n",
    "print(y_train_sc)\n",
    "print()\n",
    "print(\"y_test Dataset scaled Description and values:\")\n",
    "print(stats.describe(y_test_sc))\n",
    "print(y_test_sc)\n",
    "print()\n",
    "print(\"X_Train scaled and y_train scaled shape definition:\")\n",
    "print(X_train_sc.shape)\n",
    "print(y_train_sc.shape)"
   ]
  },
  {
   "cell_type": "code",
   "execution_count": 8,
   "id": "60a727e2",
   "metadata": {},
   "outputs": [
    {
     "data": {
      "text/plain": [
       "LinearRegression()"
      ]
     },
     "execution_count": 8,
     "metadata": {},
     "output_type": "execute_result"
    }
   ],
   "source": [
    "# importing Linear Regression from scikit-learn\n",
    "from sklearn.linear_model import LinearRegression\n",
    "\n",
    "# Creating the regressor. passing the training sets into the regressor to train the model\n",
    "regressor = LinearRegression()\n",
    "regressor.fit(X_train, y_train )"
   ]
  },
  {
   "cell_type": "code",
   "execution_count": 9,
   "id": "c2d451f0",
   "metadata": {},
   "outputs": [
    {
     "data": {
      "text/plain": [
       "['fit_intercept',\n",
       " 'normalize',\n",
       " 'copy_X',\n",
       " 'n_jobs',\n",
       " 'positive',\n",
       " 'n_features_in_',\n",
       " 'coef_',\n",
       " '_residues',\n",
       " 'rank_',\n",
       " 'singular_',\n",
       " 'intercept_',\n",
       " '__module__',\n",
       " '__doc__',\n",
       " '__init__',\n",
       " 'fit',\n",
       " '__abstractmethods__',\n",
       " '_abc_impl',\n",
       " '_more_tags',\n",
       " '__dict__',\n",
       " '__weakref__',\n",
       " '__repr__',\n",
       " '__hash__',\n",
       " '__str__',\n",
       " '__getattribute__',\n",
       " '__setattr__',\n",
       " '__delattr__',\n",
       " '__lt__',\n",
       " '__le__',\n",
       " '__eq__',\n",
       " '__ne__',\n",
       " '__gt__',\n",
       " '__ge__',\n",
       " '__new__',\n",
       " '__reduce_ex__',\n",
       " '__reduce__',\n",
       " '__subclasshook__',\n",
       " '__init_subclass__',\n",
       " '__format__',\n",
       " '__sizeof__',\n",
       " '__dir__',\n",
       " '__class__',\n",
       " '_estimator_type',\n",
       " 'score',\n",
       " '_decision_function',\n",
       " 'predict',\n",
       " '_preprocess_data',\n",
       " '_set_intercept',\n",
       " '_get_param_names',\n",
       " 'get_params',\n",
       " 'set_params',\n",
       " '__getstate__',\n",
       " '__setstate__',\n",
       " '_get_tags',\n",
       " '_check_n_features',\n",
       " '_validate_data',\n",
       " '_repr_html_',\n",
       " '_repr_html_inner',\n",
       " '_repr_mimebundle_']"
      ]
     },
     "execution_count": 9,
     "metadata": {},
     "output_type": "execute_result"
    }
   ],
   "source": [
    "# checking what are \n",
    "regressor.__dir__()"
   ]
  },
  {
   "cell_type": "code",
   "execution_count": 10,
   "id": "76fce8ed",
   "metadata": {},
   "outputs": [
    {
     "name": "stdout",
     "output_type": "stream",
     "text": [
      "\n",
      "Intercept parameter and coefficient (slope):\n",
      "Intercept (b) is :  28005.75585110631\n",
      "Coefficient (m) is :  [9430.2088825]\n"
     ]
    }
   ],
   "source": [
    "inter = regressor.intercept_ #intercept\n",
    "coe = regressor.coef_ #corfficient\n",
    "\n",
    "# printing result of intercept and coefficient\n",
    "print()\n",
    "print(\"Intercept parameter and coefficient (slope):\")\n",
    "print('Intercept (b) is : ', inter)\n",
    "print('Coefficient (m) is : ', coe)"
   ]
  },
  {
   "cell_type": "code",
   "execution_count": 11,
   "id": "44d8702c",
   "metadata": {},
   "outputs": [
    {
     "name": "stdout",
     "output_type": "stream",
     "text": [
      "\n",
      "y_pred Dataset Description and values:\n",
      "DescribeResult(nobs=20, minmax=(42151.069174854216, 127022.94911734163), mean=81852.24857017331, variance=814578809.508328, skewness=0.2688592624966764, kurtosis=-1.3933746025308222)\n",
      "\n",
      "Comparing Predicted Values vs Actual for Test set results:\n",
      "      Actual        Predict\n",
      "0    55794.0   65726.591381\n",
      "1    43525.0   46866.173616\n",
      "2   122391.0  125136.907341\n",
      "3   112635.0  118535.761123\n",
      "4    66029.0   76099.821152\n",
      "5    37731.0   42151.069175\n",
      "6    64445.0   58182.424275\n",
      "7   116969.0  117592.740235\n",
      "8    56642.0   55353.361610\n",
      "9    39891.0   48752.215393\n",
      "10  101302.0  102504.406023\n",
      "11   98273.0   94960.238917\n",
      "12  113812.0  105333.468688\n",
      "13   57081.0   66669.612269\n",
      "14  121872.0  127022.949117\n",
      "15   61111.0   70441.695822\n",
      "16   60150.0   56296.382499\n",
      "17   81363.0   83643.988258\n",
      "18  105582.0  112877.635794\n",
      "19   57189.0   62897.528716\n",
      "\n",
      "Comparing Predicted Values vs Actual + Difference for Test set results:\n",
      "      Actual        Predict    Difference\n",
      "0    55794.0   65726.591381  -9932.591381\n",
      "1    43525.0   46866.173616  -3341.173616\n",
      "2   122391.0  125136.907341  -2745.907341\n",
      "3   112635.0  118535.761123  -5900.761123\n",
      "4    66029.0   76099.821152 -10070.821152\n",
      "5    37731.0   42151.069175  -4420.069175\n",
      "6    64445.0   58182.424275   6262.575725\n",
      "7   116969.0  117592.740235   -623.740235\n",
      "8    56642.0   55353.361610   1288.638390\n",
      "9    39891.0   48752.215393  -8861.215393\n",
      "10  101302.0  102504.406023  -1202.406023\n",
      "11   98273.0   94960.238917   3312.761083\n",
      "12  113812.0  105333.468688   8478.531312\n",
      "13   57081.0   66669.612269  -9588.612269\n",
      "14  121872.0  127022.949117  -5150.949117\n",
      "15   61111.0   70441.695822  -9330.695822\n",
      "16   60150.0   56296.382499   3853.617501\n",
      "17   81363.0   83643.988258  -2280.988258\n",
      "18  105582.0  112877.635794  -7295.635794\n",
      "19   57189.0   62897.528716  -5708.528716\n"
     ]
    }
   ],
   "source": [
    "# creating a data prediction model\n",
    "y_pred = regressor.predict(X_test)\n",
    "\n",
    "print()\n",
    "print(\"y_pred Dataset Description and values:\") # printing statistics about the predicted data set\n",
    "print(stats.describe(y_pred))\n",
    "\n",
    "#comparison between predicted values, actual values and their variance\n",
    "print()\n",
    "print(\"Comparing Predicted Values vs Actual for Test set results:\") \n",
    "df1 = pd.DataFrame({'Actual': y_test, 'Predict': y_pred})\n",
    "print(df1)\n",
    "print()\n",
    "print(\"Comparing Predicted Values vs Actual + Difference for Test set results:\")\n",
    "df2 = pd.DataFrame({'Actual': y_test, 'Predict': y_pred, 'Difference': y_test - y_pred})\n",
    "print(df2)"
   ]
  },
  {
   "cell_type": "code",
   "execution_count": 12,
   "id": "e1c90051",
   "metadata": {},
   "outputs": [
    {
     "name": "stdout",
     "output_type": "stream",
     "text": [
      "__ \n",
      "\n",
      "Coefficients: \n",
      " [9430.2088825]\n",
      "__ \n",
      "\n",
      "Intercept: \n",
      " 28005.75585110631\n",
      "__ \n",
      "\n",
      "Mean squared error: 39431803.43\n",
      "__ \n",
      "\n",
      "Coefficient of determination: 0.95\n",
      "__ \n",
      "\n",
      "MAE: 5482.51\n",
      "__\n",
      "\n"
     ]
    }
   ],
   "source": [
    "# Eveluation metrics\n",
    "print(\"__ \\n\")\n",
    "print('Coefficients: \\n', regressor.coef_)\n",
    "print(\"__ \\n\")\n",
    "print('Intercept: \\n', regressor.intercept_)\n",
    "print(\"__ \\n\")\n",
    "# The mean squared error\n",
    "print('Mean squared error: %.2f'\n",
    "      % mean_squared_error(y_test, y_pred))\n",
    "print(\"__ \\n\")\n",
    "\n",
    "# The coefficient of determination: 1 is perfect prediction\n",
    "print('Coefficient of determination: %.2f'\n",
    "      % r2_score(y_test, y_pred))\n",
    "print(\"__ \\n\")\n",
    "\n",
    "print(\"MAE: %.2f\" % mean_absolute_error(y_test, y_pred))\n",
    "print(\"__\\n\")"
   ]
  },
  {
   "cell_type": "code",
   "execution_count": 13,
   "id": "f2046dd7",
   "metadata": {},
   "outputs": [
    {
     "name": "stdout",
     "output_type": "stream",
     "text": [
      "\n",
      "Score is :  95.25655818717182\n"
     ]
    }
   ],
   "source": [
    "# r2 metric\n",
    "Score = r2_score(y_test, y_pred) * 100\n",
    "print()\n",
    "print('Score is : ', Score)"
   ]
  },
  {
   "cell_type": "code",
   "execution_count": 14,
   "id": "ef3adc66",
   "metadata": {},
   "outputs": [
    {
     "name": "stdout",
     "output_type": "stream",
     "text": [
      "\n",
      "Mean Absolute Error :  5482.510971323585\n",
      "Mean Squared Error :  39431803.43008877\n",
      "Root Mean Squared Error :  6279.4747734256225\n"
     ]
    },
    {
     "data": {
      "image/png": "[encoded data removed]",
      "text/plain": [
       "<Figure size 432x288 with 1 Axes>"
      ]
     },
     "metadata": {
      "needs_background": "light"
     },
     "output_type": "display_data"
    },
    {
     "data": {
      "image/png": "[encoded data removed]",
      "text/plain": [
       "<Figure size 432x288 with 1 Axes>"
      ]
     },
     "metadata": {
      "needs_background": "light"
     },
     "output_type": "display_data"
    }
   ],
   "source": [
    "print()\n",
    "print('Mean Absolute Error : ', mean_absolute_error(y_test, y_pred))\n",
    "print('Mean Squared Error : ', mean_squared_error(y_test, y_pred))\n",
    "print('Root Mean Squared Error : ', np.sqrt(mean_squared_error(y_test, y_pred)))\n",
    "\n",
    "# Visualising the Training set results\n",
    "plt.scatter(X_train, y_train, color='red')\n",
    "plt.plot(X_train, regressor.predict(X_train), color='blue')\n",
    "plt.title('Salary vs Experience (Training set)')\n",
    "plt.xlabel('Years of Experience')\n",
    "plt.ylabel('Salary')\n",
    "plt.show()\n",
    "\n",
    "# Visualising the Test set results\n",
    "plt.scatter(X_test, y_test, color='red')\n",
    "plt.plot(X_train, regressor.predict(X_train), color='green')\n",
    "plt.title('Salary vs Experience (Test set)')\n",
    "plt.xlabel('Years of Experience')\n",
    "plt.ylabel('Salary')\n",
    "plt.show()\n"
   ]
  },
  {
   "cell_type": "code",
   "execution_count": null,
   "id": "a0209bee",
   "metadata": {},
   "outputs": [],
   "source": []
  }
 ],
 "metadata": {
  "kernelspec": {
   "display_name": "Python 3",
   "language": "python",
   "name": "python3"
  },
  "language_info": {
   "codemirror_mode": {
    "name": "ipython",
    "version": 3
   },
   "file_extension": ".py",
   "mimetype": "text/x-python",
   "name": "python",
   "nbconvert_exporter": "python",
   "pygments_lexer": "ipython3",
   "version": "3.8.8"
  }
 },
 "nbformat": 4,
 "nbformat_minor": 5
}
